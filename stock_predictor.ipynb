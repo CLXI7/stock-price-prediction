{
  "cells": [
    {
      "cell_type": "markdown",
      "metadata": {
        "id": "1sOGRW1uJSVm"
      },
      "source": [
        "Step 1: Set up your environment"
      ]
    },
    {
      "cell_type": "code",
      "execution_count": 2,
      "metadata": {
        "colab": {
          "base_uri": "https://localhost:8080/"
        },
        "id": "sfQ0Xh42IZ6I",
        "outputId": "b70a2183-2a54-44d4-c9ad-fa01e3458bb3"
      },
      "outputs": [
        {
          "name": "stdout",
          "output_type": "stream",
          "text": [
            "Collecting yfinance\n",
            "  Using cached yfinance-0.2.55-py2.py3-none-any.whl.metadata (5.8 kB)\n",
            "Requirement already satisfied: pandas in c:\\integrated new\\clive\\sh works\\vacation 25\\stock price prediction\\venv\\lib\\site-packages (2.2.3)\n",
            "Requirement already satisfied: numpy in c:\\integrated new\\clive\\sh works\\vacation 25\\stock price prediction\\venv\\lib\\site-packages (2.1.3)\n",
            "Collecting matplotlib\n",
            "  Downloading matplotlib-3.10.1-cp310-cp310-win_amd64.whl.metadata (11 kB)\n",
            "Collecting seaborn\n",
            "  Using cached seaborn-0.13.2-py3-none-any.whl.metadata (5.4 kB)\n",
            "Collecting scikit-learn\n",
            "  Downloading scikit_learn-1.6.1-cp310-cp310-win_amd64.whl.metadata (15 kB)\n",
            "Requirement already satisfied: tensorflow in c:\\integrated new\\clive\\sh works\\vacation 25\\stock price prediction\\venv\\lib\\site-packages (2.19.0)\n",
            "Requirement already satisfied: keras in c:\\integrated new\\clive\\sh works\\vacation 25\\stock price prediction\\venv\\lib\\site-packages (3.9.2)\n",
            "Requirement already satisfied: streamlit in c:\\integrated new\\clive\\sh works\\vacation 25\\stock price prediction\\venv\\lib\\site-packages (1.44.1)\n",
            "Requirement already satisfied: requests>=2.31 in c:\\integrated new\\clive\\sh works\\vacation 25\\stock price prediction\\venv\\lib\\site-packages (from yfinance) (2.32.3)\n",
            "Collecting multitasking>=0.0.7 (from yfinance)\n",
            "  Downloading multitasking-0.0.11-py3-none-any.whl.metadata (5.5 kB)\n",
            "Requirement already satisfied: platformdirs>=2.0.0 in c:\\integrated new\\clive\\sh works\\vacation 25\\stock price prediction\\venv\\lib\\site-packages (from yfinance) (4.3.7)\n",
            "Requirement already satisfied: pytz>=2022.5 in c:\\integrated new\\clive\\sh works\\vacation 25\\stock price prediction\\venv\\lib\\site-packages (from yfinance) (2025.2)\n",
            "Collecting frozendict>=2.3.4 (from yfinance)\n",
            "  Downloading frozendict-2.4.6-cp310-cp310-win_amd64.whl.metadata (23 kB)\n",
            "Collecting peewee>=3.16.2 (from yfinance)\n",
            "  Downloading peewee-3.17.9.tar.gz (3.0 MB)\n",
            "     ---------------------------------------- 0.0/3.0 MB ? eta -:--:--\n",
            "     ------ --------------------------------- 0.5/3.0 MB 4.2 MB/s eta 0:00:01\n",
            "     ------------------------ --------------- 1.8/3.0 MB 6.7 MB/s eta 0:00:01\n",
            "     ---------------------------------------- 3.0/3.0 MB 6.8 MB/s eta 0:00:00\n",
            "  Installing build dependencies: started\n",
            "  Installing build dependencies: finished with status 'done'\n",
            "  Getting requirements to build wheel: started\n",
            "  Getting requirements to build wheel: finished with status 'done'\n",
            "  Preparing metadata (pyproject.toml): started\n",
            "  Preparing metadata (pyproject.toml): finished with status 'done'\n",
            "Collecting beautifulsoup4>=4.11.1 (from yfinance)\n",
            "  Downloading beautifulsoup4-4.13.4-py3-none-any.whl.metadata (3.8 kB)\n",
            "Requirement already satisfied: python-dateutil>=2.8.2 in c:\\integrated new\\clive\\sh works\\vacation 25\\stock price prediction\\venv\\lib\\site-packages (from pandas) (2.9.0.post0)\n",
            "Requirement already satisfied: tzdata>=2022.7 in c:\\integrated new\\clive\\sh works\\vacation 25\\stock price prediction\\venv\\lib\\site-packages (from pandas) (2025.2)\n",
            "Collecting contourpy>=1.0.1 (from matplotlib)\n",
            "  Downloading contourpy-1.3.2-cp310-cp310-win_amd64.whl.metadata (5.5 kB)\n",
            "Collecting cycler>=0.10 (from matplotlib)\n",
            "  Using cached cycler-0.12.1-py3-none-any.whl.metadata (3.8 kB)\n",
            "Collecting fonttools>=4.22.0 (from matplotlib)\n",
            "  Downloading fonttools-4.57.0-cp310-cp310-win_amd64.whl.metadata (104 kB)\n",
            "Collecting kiwisolver>=1.3.1 (from matplotlib)\n",
            "  Downloading kiwisolver-1.4.8-cp310-cp310-win_amd64.whl.metadata (6.3 kB)\n",
            "Requirement already satisfied: packaging>=20.0 in c:\\integrated new\\clive\\sh works\\vacation 25\\stock price prediction\\venv\\lib\\site-packages (from matplotlib) (24.2)\n",
            "Requirement already satisfied: pillow>=8 in c:\\integrated new\\clive\\sh works\\vacation 25\\stock price prediction\\venv\\lib\\site-packages (from matplotlib) (11.2.1)\n",
            "Collecting pyparsing>=2.3.1 (from matplotlib)\n",
            "  Downloading pyparsing-3.2.3-py3-none-any.whl.metadata (5.0 kB)\n",
            "Collecting scipy>=1.6.0 (from scikit-learn)\n",
            "  Downloading scipy-1.15.2-cp310-cp310-win_amd64.whl.metadata (60 kB)\n",
            "Collecting joblib>=1.2.0 (from scikit-learn)\n",
            "  Using cached joblib-1.4.2-py3-none-any.whl.metadata (5.4 kB)\n",
            "Collecting threadpoolctl>=3.1.0 (from scikit-learn)\n",
            "  Using cached threadpoolctl-3.6.0-py3-none-any.whl.metadata (13 kB)\n",
            "Requirement already satisfied: absl-py>=1.0.0 in c:\\integrated new\\clive\\sh works\\vacation 25\\stock price prediction\\venv\\lib\\site-packages (from tensorflow) (2.2.2)\n",
            "Requirement already satisfied: astunparse>=1.6.0 in c:\\integrated new\\clive\\sh works\\vacation 25\\stock price prediction\\venv\\lib\\site-packages (from tensorflow) (1.6.3)\n",
            "Requirement already satisfied: flatbuffers>=24.3.25 in c:\\integrated new\\clive\\sh works\\vacation 25\\stock price prediction\\venv\\lib\\site-packages (from tensorflow) (25.2.10)\n",
            "Requirement already satisfied: gast!=0.5.0,!=0.5.1,!=0.5.2,>=0.2.1 in c:\\integrated new\\clive\\sh works\\vacation 25\\stock price prediction\\venv\\lib\\site-packages (from tensorflow) (0.6.0)\n",
            "Requirement already satisfied: google-pasta>=0.1.1 in c:\\integrated new\\clive\\sh works\\vacation 25\\stock price prediction\\venv\\lib\\site-packages (from tensorflow) (0.2.0)\n",
            "Requirement already satisfied: libclang>=13.0.0 in c:\\integrated new\\clive\\sh works\\vacation 25\\stock price prediction\\venv\\lib\\site-packages (from tensorflow) (18.1.1)\n",
            "Requirement already satisfied: opt-einsum>=2.3.2 in c:\\integrated new\\clive\\sh works\\vacation 25\\stock price prediction\\venv\\lib\\site-packages (from tensorflow) (3.4.0)\n",
            "Requirement already satisfied: protobuf!=4.21.0,!=4.21.1,!=4.21.2,!=4.21.3,!=4.21.4,!=4.21.5,<6.0.0dev,>=3.20.3 in c:\\integrated new\\clive\\sh works\\vacation 25\\stock price prediction\\venv\\lib\\site-packages (from tensorflow) (5.29.4)\n",
            "Requirement already satisfied: setuptools in c:\\integrated new\\clive\\sh works\\vacation 25\\stock price prediction\\venv\\lib\\site-packages (from tensorflow) (65.5.0)\n",
            "Requirement already satisfied: six>=1.12.0 in c:\\integrated new\\clive\\sh works\\vacation 25\\stock price prediction\\venv\\lib\\site-packages (from tensorflow) (1.17.0)\n",
            "Requirement already satisfied: termcolor>=1.1.0 in c:\\integrated new\\clive\\sh works\\vacation 25\\stock price prediction\\venv\\lib\\site-packages (from tensorflow) (3.0.1)\n",
            "Requirement already satisfied: typing-extensions>=3.6.6 in c:\\integrated new\\clive\\sh works\\vacation 25\\stock price prediction\\venv\\lib\\site-packages (from tensorflow) (4.13.2)\n",
            "Requirement already satisfied: wrapt>=1.11.0 in c:\\integrated new\\clive\\sh works\\vacation 25\\stock price prediction\\venv\\lib\\site-packages (from tensorflow) (1.17.2)\n",
            "Requirement already satisfied: grpcio<2.0,>=1.24.3 in c:\\integrated new\\clive\\sh works\\vacation 25\\stock price prediction\\venv\\lib\\site-packages (from tensorflow) (1.71.0)\n",
            "Requirement already satisfied: tensorboard~=2.19.0 in c:\\integrated new\\clive\\sh works\\vacation 25\\stock price prediction\\venv\\lib\\site-packages (from tensorflow) (2.19.0)\n",
            "Requirement already satisfied: h5py>=3.11.0 in c:\\integrated new\\clive\\sh works\\vacation 25\\stock price prediction\\venv\\lib\\site-packages (from tensorflow) (3.13.0)\n",
            "Requirement already satisfied: ml-dtypes<1.0.0,>=0.5.1 in c:\\integrated new\\clive\\sh works\\vacation 25\\stock price prediction\\venv\\lib\\site-packages (from tensorflow) (0.5.1)\n",
            "Requirement already satisfied: tensorflow-io-gcs-filesystem>=0.23.1 in c:\\integrated new\\clive\\sh works\\vacation 25\\stock price prediction\\venv\\lib\\site-packages (from tensorflow) (0.31.0)\n",
            "Requirement already satisfied: rich in c:\\integrated new\\clive\\sh works\\vacation 25\\stock price prediction\\venv\\lib\\site-packages (from keras) (14.0.0)\n",
            "Requirement already satisfied: namex in c:\\integrated new\\clive\\sh works\\vacation 25\\stock price prediction\\venv\\lib\\site-packages (from keras) (0.0.8)\n",
            "Requirement already satisfied: optree in c:\\integrated new\\clive\\sh works\\vacation 25\\stock price prediction\\venv\\lib\\site-packages (from keras) (0.15.0)\n",
            "Requirement already satisfied: altair<6,>=4.0 in c:\\integrated new\\clive\\sh works\\vacation 25\\stock price prediction\\venv\\lib\\site-packages (from streamlit) (5.5.0)\n",
            "Requirement already satisfied: blinker<2,>=1.0.0 in c:\\integrated new\\clive\\sh works\\vacation 25\\stock price prediction\\venv\\lib\\site-packages (from streamlit) (1.9.0)\n",
            "Requirement already satisfied: cachetools<6,>=4.0 in c:\\integrated new\\clive\\sh works\\vacation 25\\stock price prediction\\venv\\lib\\site-packages (from streamlit) (5.5.2)\n",
            "Requirement already satisfied: click<9,>=7.0 in c:\\integrated new\\clive\\sh works\\vacation 25\\stock price prediction\\venv\\lib\\site-packages (from streamlit) (8.1.8)\n",
            "Requirement already satisfied: pyarrow>=7.0 in c:\\integrated new\\clive\\sh works\\vacation 25\\stock price prediction\\venv\\lib\\site-packages (from streamlit) (19.0.1)\n",
            "Requirement already satisfied: tenacity<10,>=8.1.0 in c:\\integrated new\\clive\\sh works\\vacation 25\\stock price prediction\\venv\\lib\\site-packages (from streamlit) (9.1.2)\n",
            "Requirement already satisfied: toml<2,>=0.10.1 in c:\\integrated new\\clive\\sh works\\vacation 25\\stock price prediction\\venv\\lib\\site-packages (from streamlit) (0.10.2)\n",
            "Requirement already satisfied: watchdog<7,>=2.1.5 in c:\\integrated new\\clive\\sh works\\vacation 25\\stock price prediction\\venv\\lib\\site-packages (from streamlit) (6.0.0)\n",
            "Requirement already satisfied: gitpython!=3.1.19,<4,>=3.0.7 in c:\\integrated new\\clive\\sh works\\vacation 25\\stock price prediction\\venv\\lib\\site-packages (from streamlit) (3.1.44)\n",
            "Requirement already satisfied: pydeck<1,>=0.8.0b4 in c:\\integrated new\\clive\\sh works\\vacation 25\\stock price prediction\\venv\\lib\\site-packages (from streamlit) (0.9.1)\n",
            "Requirement already satisfied: tornado<7,>=6.0.3 in c:\\integrated new\\clive\\sh works\\vacation 25\\stock price prediction\\venv\\lib\\site-packages (from streamlit) (6.4.2)\n",
            "Requirement already satisfied: jinja2 in c:\\integrated new\\clive\\sh works\\vacation 25\\stock price prediction\\venv\\lib\\site-packages (from altair<6,>=4.0->streamlit) (3.1.6)\n",
            "Requirement already satisfied: jsonschema>=3.0 in c:\\integrated new\\clive\\sh works\\vacation 25\\stock price prediction\\venv\\lib\\site-packages (from altair<6,>=4.0->streamlit) (4.23.0)\n",
            "Requirement already satisfied: narwhals>=1.14.2 in c:\\integrated new\\clive\\sh works\\vacation 25\\stock price prediction\\venv\\lib\\site-packages (from altair<6,>=4.0->streamlit) (1.35.0)\n",
            "Requirement already satisfied: wheel<1.0,>=0.23.0 in c:\\integrated new\\clive\\sh works\\vacation 25\\stock price prediction\\venv\\lib\\site-packages (from astunparse>=1.6.0->tensorflow) (0.45.1)\n",
            "Collecting soupsieve>1.2 (from beautifulsoup4>=4.11.1->yfinance)\n",
            "  Downloading soupsieve-2.6-py3-none-any.whl.metadata (4.6 kB)\n",
            "Requirement already satisfied: colorama in c:\\integrated new\\clive\\sh works\\vacation 25\\stock price prediction\\venv\\lib\\site-packages (from click<9,>=7.0->streamlit) (0.4.6)\n",
            "Requirement already satisfied: gitdb<5,>=4.0.1 in c:\\integrated new\\clive\\sh works\\vacation 25\\stock price prediction\\venv\\lib\\site-packages (from gitpython!=3.1.19,<4,>=3.0.7->streamlit) (4.0.12)\n",
            "Requirement already satisfied: charset-normalizer<4,>=2 in c:\\integrated new\\clive\\sh works\\vacation 25\\stock price prediction\\venv\\lib\\site-packages (from requests>=2.31->yfinance) (3.4.1)\n",
            "Requirement already satisfied: idna<4,>=2.5 in c:\\integrated new\\clive\\sh works\\vacation 25\\stock price prediction\\venv\\lib\\site-packages (from requests>=2.31->yfinance) (3.10)\n",
            "Requirement already satisfied: urllib3<3,>=1.21.1 in c:\\integrated new\\clive\\sh works\\vacation 25\\stock price prediction\\venv\\lib\\site-packages (from requests>=2.31->yfinance) (2.4.0)\n",
            "Requirement already satisfied: certifi>=2017.4.17 in c:\\integrated new\\clive\\sh works\\vacation 25\\stock price prediction\\venv\\lib\\site-packages (from requests>=2.31->yfinance) (2025.1.31)\n",
            "Requirement already satisfied: markdown>=2.6.8 in c:\\integrated new\\clive\\sh works\\vacation 25\\stock price prediction\\venv\\lib\\site-packages (from tensorboard~=2.19.0->tensorflow) (3.8)\n",
            "Requirement already satisfied: tensorboard-data-server<0.8.0,>=0.7.0 in c:\\integrated new\\clive\\sh works\\vacation 25\\stock price prediction\\venv\\lib\\site-packages (from tensorboard~=2.19.0->tensorflow) (0.7.2)\n",
            "Requirement already satisfied: werkzeug>=1.0.1 in c:\\integrated new\\clive\\sh works\\vacation 25\\stock price prediction\\venv\\lib\\site-packages (from tensorboard~=2.19.0->tensorflow) (3.1.3)\n",
            "Requirement already satisfied: markdown-it-py>=2.2.0 in c:\\integrated new\\clive\\sh works\\vacation 25\\stock price prediction\\venv\\lib\\site-packages (from rich->keras) (3.0.0)\n",
            "Requirement already satisfied: pygments<3.0.0,>=2.13.0 in c:\\integrated new\\clive\\sh works\\vacation 25\\stock price prediction\\venv\\lib\\site-packages (from rich->keras) (2.19.1)\n",
            "Requirement already satisfied: smmap<6,>=3.0.1 in c:\\integrated new\\clive\\sh works\\vacation 25\\stock price prediction\\venv\\lib\\site-packages (from gitdb<5,>=4.0.1->gitpython!=3.1.19,<4,>=3.0.7->streamlit) (5.0.2)\n",
            "Requirement already satisfied: MarkupSafe>=2.0 in c:\\integrated new\\clive\\sh works\\vacation 25\\stock price prediction\\venv\\lib\\site-packages (from jinja2->altair<6,>=4.0->streamlit) (3.0.2)\n",
            "Requirement already satisfied: attrs>=22.2.0 in c:\\integrated new\\clive\\sh works\\vacation 25\\stock price prediction\\venv\\lib\\site-packages (from jsonschema>=3.0->altair<6,>=4.0->streamlit) (25.3.0)\n",
            "Requirement already satisfied: jsonschema-specifications>=2023.03.6 in c:\\integrated new\\clive\\sh works\\vacation 25\\stock price prediction\\venv\\lib\\site-packages (from jsonschema>=3.0->altair<6,>=4.0->streamlit) (2024.10.1)\n",
            "Requirement already satisfied: referencing>=0.28.4 in c:\\integrated new\\clive\\sh works\\vacation 25\\stock price prediction\\venv\\lib\\site-packages (from jsonschema>=3.0->altair<6,>=4.0->streamlit) (0.36.2)\n",
            "Requirement already satisfied: rpds-py>=0.7.1 in c:\\integrated new\\clive\\sh works\\vacation 25\\stock price prediction\\venv\\lib\\site-packages (from jsonschema>=3.0->altair<6,>=4.0->streamlit) (0.24.0)\n",
            "Requirement already satisfied: mdurl~=0.1 in c:\\integrated new\\clive\\sh works\\vacation 25\\stock price prediction\\venv\\lib\\site-packages (from markdown-it-py>=2.2.0->rich->keras) (0.1.2)\n",
            "Downloading yfinance-0.2.55-py2.py3-none-any.whl (109 kB)\n",
            "Downloading matplotlib-3.10.1-cp310-cp310-win_amd64.whl (8.1 MB)\n",
            "   ---------------------------------------- 0.0/8.1 MB ? eta -:--:--\n",
            "   --- ------------------------------------ 0.8/8.1 MB 11.2 MB/s eta 0:00:01\n",
            "   ------------- -------------------------- 2.6/8.1 MB 6.9 MB/s eta 0:00:01\n",
            "   -------------------- ------------------- 4.2/8.1 MB 6.8 MB/s eta 0:00:01\n",
            "   --------------------------- ------------ 5.5/8.1 MB 6.5 MB/s eta 0:00:01\n",
            "   --------------------------------- ------ 6.8/8.1 MB 6.6 MB/s eta 0:00:01\n",
            "   ---------------------------------------  7.9/8.1 MB 6.5 MB/s eta 0:00:01\n",
            "   ---------------------------------------- 8.1/8.1 MB 6.2 MB/s eta 0:00:00\n",
            "Downloading seaborn-0.13.2-py3-none-any.whl (294 kB)\n",
            "Downloading scikit_learn-1.6.1-cp310-cp310-win_amd64.whl (11.1 MB)\n",
            "   ---------------------------------------- 0.0/11.1 MB ? eta -:--:--\n",
            "   --- ------------------------------------ 1.0/11.1 MB 6.3 MB/s eta 0:00:02\n",
            "   -------- ------------------------------- 2.4/11.1 MB 6.1 MB/s eta 0:00:02\n",
            "   -------------- ------------------------- 3.9/11.1 MB 6.2 MB/s eta 0:00:02\n",
            "   ------------------ --------------------- 5.2/11.1 MB 6.2 MB/s eta 0:00:01\n",
            "   ---------------------- ----------------- 6.3/11.1 MB 6.1 MB/s eta 0:00:01\n",
            "   ---------------------------- ----------- 7.9/11.1 MB 6.2 MB/s eta 0:00:01\n",
            "   -------------------------------- ------- 9.2/11.1 MB 6.2 MB/s eta 0:00:01\n",
            "   -------------------------------------- - 10.7/11.1 MB 6.3 MB/s eta 0:00:01\n",
            "   ---------------------------------------- 11.1/11.1 MB 6.0 MB/s eta 0:00:00\n",
            "Downloading beautifulsoup4-4.13.4-py3-none-any.whl (187 kB)\n",
            "Downloading contourpy-1.3.2-cp310-cp310-win_amd64.whl (221 kB)\n",
            "Using cached cycler-0.12.1-py3-none-any.whl (8.3 kB)\n",
            "Downloading fonttools-4.57.0-cp310-cp310-win_amd64.whl (2.2 MB)\n",
            "   ---------------------------------------- 0.0/2.2 MB ? eta -:--:--\n",
            "   ------------------- -------------------- 1.0/2.2 MB 4.2 MB/s eta 0:00:01\n",
            "   ----------------------- ---------------- 1.3/2.2 MB 3.2 MB/s eta 0:00:01\n",
            "   ---------------------------------------- 2.2/2.2 MB 3.4 MB/s eta 0:00:00\n",
            "Downloading frozendict-2.4.6-cp310-cp310-win_amd64.whl (37 kB)\n",
            "Using cached joblib-1.4.2-py3-none-any.whl (301 kB)\n",
            "Downloading kiwisolver-1.4.8-cp310-cp310-win_amd64.whl (71 kB)\n",
            "Downloading multitasking-0.0.11-py3-none-any.whl (8.5 kB)\n",
            "Downloading pyparsing-3.2.3-py3-none-any.whl (111 kB)\n",
            "Downloading scipy-1.15.2-cp310-cp310-win_amd64.whl (41.2 MB)\n",
            "   ---------------------------------------- 0.0/41.2 MB ? eta -:--:--\n",
            "   ---------------------------------------- 0.3/41.2 MB ? eta -:--:--\n",
            "    --------------------------------------- 0.8/41.2 MB 2.6 MB/s eta 0:00:16\n",
            "   - -------------------------------------- 1.6/41.2 MB 2.5 MB/s eta 0:00:16\n",
            "   -- ------------------------------------- 2.1/41.2 MB 2.6 MB/s eta 0:00:16\n",
            "   -- ------------------------------------- 2.6/41.2 MB 2.6 MB/s eta 0:00:16\n",
            "   --- ------------------------------------ 3.1/41.2 MB 2.6 MB/s eta 0:00:15\n",
            "   --- ------------------------------------ 3.7/41.2 MB 2.6 MB/s eta 0:00:15\n",
            "   ---- ----------------------------------- 4.2/41.2 MB 2.6 MB/s eta 0:00:15\n",
            "   ---- ----------------------------------- 5.0/41.2 MB 2.6 MB/s eta 0:00:14\n",
            "   ----- ---------------------------------- 5.5/41.2 MB 2.7 MB/s eta 0:00:14\n",
            "   ----- ---------------------------------- 6.0/41.2 MB 2.7 MB/s eta 0:00:14\n",
            "   ------ --------------------------------- 6.8/41.2 MB 2.7 MB/s eta 0:00:13\n",
            "   ------- -------------------------------- 7.6/41.2 MB 2.8 MB/s eta 0:00:13\n",
            "   ------- -------------------------------- 8.1/41.2 MB 2.8 MB/s eta 0:00:12\n",
            "   -------- ------------------------------- 8.9/41.2 MB 2.8 MB/s eta 0:00:12\n",
            "   --------- ------------------------------ 9.4/41.2 MB 2.8 MB/s eta 0:00:12\n",
            "   --------- ------------------------------ 10.2/41.2 MB 2.9 MB/s eta 0:00:11\n",
            "   ---------- ----------------------------- 10.7/41.2 MB 2.9 MB/s eta 0:00:11\n",
            "   ----------- ---------------------------- 11.5/41.2 MB 2.9 MB/s eta 0:00:11\n",
            "   ----------- ---------------------------- 12.1/41.2 MB 2.9 MB/s eta 0:00:11\n",
            "   ------------ --------------------------- 12.6/41.2 MB 2.9 MB/s eta 0:00:10\n",
            "   ------------ --------------------------- 13.1/41.2 MB 2.9 MB/s eta 0:00:10\n",
            "   ------------- -------------------------- 13.9/41.2 MB 2.9 MB/s eta 0:00:10\n",
            "   ------------- -------------------------- 14.4/41.2 MB 2.9 MB/s eta 0:00:10\n",
            "   -------------- ------------------------- 15.2/41.2 MB 2.9 MB/s eta 0:00:10\n",
            "   --------------- ------------------------ 15.7/41.2 MB 2.9 MB/s eta 0:00:09\n",
            "   ---------------- ----------------------- 16.5/41.2 MB 2.9 MB/s eta 0:00:09\n",
            "   ---------------- ----------------------- 17.0/41.2 MB 2.9 MB/s eta 0:00:09\n",
            "   ----------------- ---------------------- 17.8/41.2 MB 2.9 MB/s eta 0:00:09\n",
            "   ------------------ --------------------- 18.6/41.2 MB 2.9 MB/s eta 0:00:08\n",
            "   ------------------ --------------------- 19.1/41.2 MB 2.9 MB/s eta 0:00:08\n",
            "   ------------------- -------------------- 19.9/41.2 MB 3.0 MB/s eta 0:00:08\n",
            "   -------------------- ------------------- 20.7/41.2 MB 3.0 MB/s eta 0:00:07\n",
            "   -------------------- ------------------- 21.5/41.2 MB 3.0 MB/s eta 0:00:07\n",
            "   --------------------- ------------------ 22.3/41.2 MB 3.0 MB/s eta 0:00:07\n",
            "   ---------------------- ----------------- 23.1/41.2 MB 3.0 MB/s eta 0:00:07\n",
            "   ---------------------- ----------------- 23.6/41.2 MB 3.0 MB/s eta 0:00:06\n",
            "   ----------------------- ---------------- 24.4/41.2 MB 3.0 MB/s eta 0:00:06\n",
            "   ------------------------ --------------- 25.2/41.2 MB 3.1 MB/s eta 0:00:06\n",
            "   ------------------------- -------------- 26.0/41.2 MB 3.1 MB/s eta 0:00:05\n",
            "   ------------------------- -------------- 26.7/41.2 MB 3.1 MB/s eta 0:00:05\n",
            "   -------------------------- ------------- 27.5/41.2 MB 3.1 MB/s eta 0:00:05\n",
            "   --------------------------- ------------ 28.3/41.2 MB 3.1 MB/s eta 0:00:05\n",
            "   ---------------------------- ----------- 29.1/41.2 MB 3.1 MB/s eta 0:00:04\n",
            "   ----------------------------- ---------- 30.1/41.2 MB 3.2 MB/s eta 0:00:04\n",
            "   ------------------------------ --------- 30.9/41.2 MB 3.2 MB/s eta 0:00:04\n",
            "   ------------------------------ --------- 31.7/41.2 MB 3.2 MB/s eta 0:00:03\n",
            "   ------------------------------- -------- 32.8/41.2 MB 3.2 MB/s eta 0:00:03\n",
            "   -------------------------------- ------- 33.6/41.2 MB 3.2 MB/s eta 0:00:03\n",
            "   --------------------------------- ------ 34.3/41.2 MB 3.3 MB/s eta 0:00:03\n",
            "   ---------------------------------- ----- 35.4/41.2 MB 3.3 MB/s eta 0:00:02\n",
            "   ----------------------------------- ---- 36.4/41.2 MB 3.3 MB/s eta 0:00:02\n",
            "   ------------------------------------ --- 37.2/41.2 MB 3.3 MB/s eta 0:00:02\n",
            "   ------------------------------------- -- 38.3/41.2 MB 3.3 MB/s eta 0:00:01\n",
            "   -------------------------------------- - 39.3/41.2 MB 3.4 MB/s eta 0:00:01\n",
            "   -------------------------------------- - 40.1/41.2 MB 3.4 MB/s eta 0:00:01\n",
            "   ---------------------------------------  41.2/41.2 MB 3.4 MB/s eta 0:00:01\n",
            "   ---------------------------------------  41.2/41.2 MB 3.4 MB/s eta 0:00:01\n",
            "   ---------------------------------------- 41.2/41.2 MB 3.3 MB/s eta 0:00:00\n",
            "Using cached threadpoolctl-3.6.0-py3-none-any.whl (18 kB)\n",
            "Downloading soupsieve-2.6-py3-none-any.whl (36 kB)\n",
            "Building wheels for collected packages: peewee\n",
            "  Building wheel for peewee (pyproject.toml): started\n",
            "  Building wheel for peewee (pyproject.toml): finished with status 'done'\n",
            "  Created wheel for peewee: filename=peewee-3.17.9-py3-none-any.whl size=139127 sha256=8473045bbea02950a732a4dcb440330e32089f1fa2f8c65ed1d356c2cbdaeb1d\n",
            "  Stored in directory: c:\\users\\user\\appdata\\local\\pip\\cache\\wheels\\fd\\fd\\5e\\90b9ec95da4fd6c96237b580ce74f89d6bdea547ad151ab5f4\n",
            "Successfully built peewee\n",
            "Installing collected packages: peewee, multitasking, threadpoolctl, soupsieve, scipy, pyparsing, kiwisolver, joblib, frozendict, fonttools, cycler, contourpy, scikit-learn, matplotlib, beautifulsoup4, yfinance, seaborn\n",
            "Successfully installed beautifulsoup4-4.13.4 contourpy-1.3.2 cycler-0.12.1 fonttools-4.57.0 frozendict-2.4.6 joblib-1.4.2 kiwisolver-1.4.8 matplotlib-3.10.1 multitasking-0.0.11 peewee-3.17.9 pyparsing-3.2.3 scikit-learn-1.6.1 scipy-1.15.2 seaborn-0.13.2 soupsieve-2.6 threadpoolctl-3.6.0 yfinance-0.2.55\n"
          ]
        }
      ],
      "source": [
        "!pip install yfinance pandas numpy matplotlib seaborn scikit-learn tensorflow keras streamlit"
      ]
    },
    {
      "cell_type": "markdown",
      "metadata": {
        "id": "YEkedFvGJkMj"
      },
      "source": [
        "Step 2: Download Historical Stock Data"
      ]
    },
    {
      "cell_type": "code",
      "execution_count": 3,
      "metadata": {
        "colab": {
          "base_uri": "https://localhost:8080/"
        },
        "id": "Gx0hNqBrI6Jc",
        "outputId": "c5468a4c-8cc0-46ce-f422-518b26235f50"
      },
      "outputs": [
        {
          "name": "stdout",
          "output_type": "stream",
          "text": [
            "YF.download() has changed argument auto_adjust default to True\n"
          ]
        },
        {
          "name": "stderr",
          "output_type": "stream",
          "text": [
            "[*********************100%***********************]  1 of 1 completed"
          ]
        },
        {
          "name": "stdout",
          "output_type": "stream",
          "text": [
            "Price           Close       High        Low       Open     Volume\n",
            "Ticker           AAPL       AAPL       AAPL       AAPL       AAPL\n",
            "Date                                                             \n",
            "2015-01-02  24.320436  24.789806  23.879985  24.778683  212818400\n",
            "2015-01-05  23.635286  24.169166  23.448429  24.089084  257142000\n",
            "2015-01-06  23.637505  23.897770  23.274910  23.699790  263188400\n",
            "2015-01-07  23.968960  24.069062  23.735387  23.846612  160423600\n",
            "2015-01-08  24.889904  24.947741  24.180289  24.298189  237458000\n"
          ]
        },
        {
          "name": "stderr",
          "output_type": "stream",
          "text": [
            "\n"
          ]
        }
      ],
      "source": [
        "import yfinance as yf\n",
        "\n",
        "#Example: Fetch data for Apple (AAPL)\n",
        "data = yf.download('AAPL', start='2015-01-01', end='2024-12-31')\n",
        "print(data.head())"
      ]
    },
    {
      "cell_type": "markdown",
      "metadata": {
        "id": "R547_0TjKRHq"
      },
      "source": [
        "Step 3: Preprocess the Data"
      ]
    },
    {
      "cell_type": "code",
      "execution_count": 4,
      "metadata": {
        "id": "60kZUdEmKQJa"
      },
      "outputs": [],
      "source": [
        "import pandas as pd\n",
        "import numpy as np\n",
        "\n",
        "#Keep only 'Close'\n",
        "data = data[['Close']]\n",
        "\n",
        "#Normalize the data\n",
        "from sklearn.preprocessing import MinMaxScaler\n",
        "scaler = MinMaxScaler()\n",
        "scaled_data = scaler.fit_transform(data)\n",
        "\n",
        "#Create sequences (for LSTM)\n",
        "def create_dataset(data, time_step=60):\n",
        "  X, y = [], []\n",
        "  for i in range(time_step, len(data)):\n",
        "    X.append(data[i-time_step:i, 0])\n",
        "    y.append(data[i, 0])\n",
        "  return np.array(X), np.array(y)\n",
        "\n",
        "X, y = create_dataset(scaled_data)\n",
        "X = X.reshape(X.shape[0], X.shape[1], 1)"
      ]
    },
    {
      "cell_type": "markdown",
      "metadata": {
        "id": "-x6OYaZkXKQw"
      },
      "source": [
        "Step 4: Build and Train LSTM Model"
      ]
    },
    {
      "cell_type": "code",
      "execution_count": 5,
      "metadata": {
        "colab": {
          "base_uri": "https://localhost:8080/"
        },
        "id": "i7PQxJ-GWuIf",
        "outputId": "100c6397-31a3-43cf-dce4-4a4d40579e13"
      },
      "outputs": [
        {
          "name": "stderr",
          "output_type": "stream",
          "text": [
            "Matplotlib is building the font cache; this may take a moment.\n",
            "c:\\Integrated New\\Clive\\SH WORKS\\vacation 25\\Stock Price Prediction\\venv\\lib\\site-packages\\keras\\src\\layers\\rnn\\rnn.py:200: UserWarning: Do not pass an `input_shape`/`input_dim` argument to a layer. When using Sequential models, prefer using an `Input(shape)` object as the first layer in the model instead.\n",
            "  super().__init__(**kwargs)\n"
          ]
        },
        {
          "name": "stdout",
          "output_type": "stream",
          "text": [
            "Epoch 1/10\n",
            "\u001b[1m77/77\u001b[0m \u001b[32m━━━━━━━━━━━━━━━━━━━━\u001b[0m\u001b[37m\u001b[0m \u001b[1m8s\u001b[0m 39ms/step - loss: 0.0372\n",
            "Epoch 2/10\n",
            "\u001b[1m77/77\u001b[0m \u001b[32m━━━━━━━━━━━━━━━━━━━━\u001b[0m\u001b[37m\u001b[0m \u001b[1m3s\u001b[0m 37ms/step - loss: 5.0643e-04\n",
            "Epoch 3/10\n",
            "\u001b[1m77/77\u001b[0m \u001b[32m━━━━━━━━━━━━━━━━━━━━\u001b[0m\u001b[37m\u001b[0m \u001b[1m3s\u001b[0m 33ms/step - loss: 4.2081e-04\n",
            "Epoch 4/10\n",
            "\u001b[1m77/77\u001b[0m \u001b[32m━━━━━━━━━━━━━━━━━━━━\u001b[0m\u001b[37m\u001b[0m \u001b[1m3s\u001b[0m 34ms/step - loss: 4.0625e-04\n",
            "Epoch 5/10\n",
            "\u001b[1m77/77\u001b[0m \u001b[32m━━━━━━━━━━━━━━━━━━━━\u001b[0m\u001b[37m\u001b[0m \u001b[1m3s\u001b[0m 34ms/step - loss: 4.0422e-04\n",
            "Epoch 6/10\n",
            "\u001b[1m77/77\u001b[0m \u001b[32m━━━━━━━━━━━━━━━━━━━━\u001b[0m\u001b[37m\u001b[0m \u001b[1m3s\u001b[0m 34ms/step - loss: 3.8926e-04\n",
            "Epoch 7/10\n",
            "\u001b[1m77/77\u001b[0m \u001b[32m━━━━━━━━━━━━━━━━━━━━\u001b[0m\u001b[37m\u001b[0m \u001b[1m3s\u001b[0m 33ms/step - loss: 3.8534e-04\n",
            "Epoch 8/10\n",
            "\u001b[1m77/77\u001b[0m \u001b[32m━━━━━━━━━━━━━━━━━━━━\u001b[0m\u001b[37m\u001b[0m \u001b[1m3s\u001b[0m 35ms/step - loss: 3.6668e-04\n",
            "Epoch 9/10\n",
            "\u001b[1m77/77\u001b[0m \u001b[32m━━━━━━━━━━━━━━━━━━━━\u001b[0m\u001b[37m\u001b[0m \u001b[1m3s\u001b[0m 36ms/step - loss: 3.9300e-04\n",
            "Epoch 10/10\n",
            "\u001b[1m77/77\u001b[0m \u001b[32m━━━━━━━━━━━━━━━━━━━━\u001b[0m\u001b[37m\u001b[0m \u001b[1m3s\u001b[0m 33ms/step - loss: 3.4687e-04\n"
          ]
        },
        {
          "data": {
            "text/plain": [
              "<keras.src.callbacks.history.History at 0x1797d40c910>"
            ]
          },
          "execution_count": 5,
          "metadata": {},
          "output_type": "execute_result"
        }
      ],
      "source": [
        "from keras.models import Sequential\n",
        "from keras.layers import LSTM, Dense\n",
        "\n",
        "model = Sequential()\n",
        "model.add(LSTM(units=50, return_sequences=True, input_shape=(X.shape[1], 1)))\n",
        "model.add(LSTM(units=50))\n",
        "model.add(Dense(1))\n",
        "\n",
        "model.compile(optimizer='adam', loss='mean_squared_error')\n",
        "model.fit(X, y, epochs=10, batch_size=32)"
      ]
    },
    {
      "cell_type": "markdown",
      "metadata": {
        "id": "y7Pi1n8hbFkY"
      },
      "source": [
        "Step 5: Make Predictions"
      ]
    },
    {
      "cell_type": "code",
      "execution_count": 6,
      "metadata": {
        "colab": {
          "base_uri": "https://localhost:8080/"
        },
        "id": "9knlQwpUbE5W",
        "outputId": "7e34b052-9708-4e1e-f0b6-f499bc97aadd"
      },
      "outputs": [
        {
          "name": "stdout",
          "output_type": "stream",
          "text": [
            "\u001b[1m77/77\u001b[0m \u001b[32m━━━━━━━━━━━━━━━━━━━━\u001b[0m\u001b[37m\u001b[0m \u001b[1m2s\u001b[0m 17ms/step\n"
          ]
        }
      ],
      "source": [
        "#Invert scaling for comparison\n",
        "predicted = model.predict(X)\n",
        "predicted_prices = scaler.inverse_transform(predicted)\n",
        "real_prices = scaler.inverse_transform(y.reshape(-1, 1))"
      ]
    },
    {
      "cell_type": "markdown",
      "metadata": {
        "id": "eJ74uNU8dP8D"
      },
      "source": [
        "Step 6: Visualize Results"
      ]
    },
    {
      "cell_type": "code",
      "execution_count": 7,
      "metadata": {
        "colab": {
          "base_uri": "https://localhost:8080/",
          "height": 564
        },
        "id": "B2ZiNtgvdOFB",
        "outputId": "0de125ae-b5d3-4132-bbe3-efd9a99645a3"
      },
      "outputs": [
        {
          "data": {
            "image/png": "[encoded data removed]",
            "text/plain": [
              "<Figure size 1200x600 with 1 Axes>"
            ]
          },
          "metadata": {},
          "output_type": "display_data"
        }
      ],
      "source": [
        "import matplotlib.pyplot as plt\n",
        "\n",
        "plt.figure(figsize=(12, 6))\n",
        "plt.plot(real_prices, label='Actual Price')\n",
        "plt.plot(predicted_prices, label='Predicted Price')\n",
        "plt.title('Stock Price Prediction')\n",
        "plt.xlabel('Days')\n",
        "plt.ylabel('Price')\n",
        "plt.legend()\n",
        "plt.show()"
      ]
    },
    {
      "cell_type": "code",
      "execution_count": 8,
      "metadata": {},
      "outputs": [],
      "source": [
        "import numpy as np\n",
        "import pandas as pd\n",
        "import pickle\n",
        "\n",
        "# Save predicted and real values\n",
        "np.save(\"real_prices.npy\", real_prices)\n",
        "np.save(\"predicted_prices.npy\", predicted_prices)\n",
        "\n",
        "# Optional: save scaler or model if needed late\n",
        "# pickle.dump(scaler, open(\"scaler.pkl\", \"wb\"))\n",
        "# model.save(\"lstm_model.keras\")"
      ]
    },
    {
      "cell_type": "code",
      "execution_count": null,
      "metadata": {
        "id": "BaoFO2Vmeg9v"
      },
      "outputs": [],
      "source": []
    }
  ],
  "metadata": {
    "colab": {
      "provenance": []
    },
    "kernelspec": {
      "display_name": "venv",
      "language": "python",
      "name": "python3"
    },
    "language_info": {
      "codemirror_mode": {
        "name": "ipython",
        "version": 3
      },
      "file_extension": ".py",
      "mimetype": "text/x-python",
      "name": "python",
      "nbconvert_exporter": "python",
      "pygments_lexer": "ipython3",
      "version": "3.10.9"
    }
  },
  "nbformat": 4,
  "nbformat_minor": 0
}
